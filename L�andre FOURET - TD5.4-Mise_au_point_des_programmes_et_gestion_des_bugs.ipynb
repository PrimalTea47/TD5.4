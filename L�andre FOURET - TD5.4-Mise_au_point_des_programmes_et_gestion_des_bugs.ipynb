{
 "cells": [
  {
   "cell_type": "markdown",
   "source": [
    " <p align =center> <img src=\"https://github.com/esabahi/NSI_Images/blob/main/NSI-Image.png?raw=true\" width=350>\n",
    "    </p>"
   ],
   "metadata": {
    "id": "9w6gqUk23GWS"
   }
  },
  {
   "cell_type": "markdown",
   "metadata": {
    "id": "GlWSTcNftLXO"
   },
   "source": [
    "<h1 style=\"font-size: 30px; text-align: center\">TD5.4-Mise au point des programmes et gestion des bugs\n",
    "\n",
    "---\n",
    "\n",
    "# 🟥 Documenter son programme\n",
    "\n",
    "## 🐍 Exercice 1\n",
    "\n",
    "**Q1** : Donnez un meilleur nom et une chaîne de documentation à la fonction suivante.\n",
    "\n",
    "```python\n",
    "def f(a, b):\n",
    "    return a + b\n",
    "```"
   ]
  },
  {
   "cell_type": "code",
   "execution_count": 3,
   "metadata": {
    "id": "DVHmN_5CtLXS",
    "ExecuteTime": {
     "end_time": "2023-10-11T15:14:18.266112290Z",
     "start_time": "2023-10-11T15:14:18.219250346Z"
    }
   },
   "outputs": [],
   "source": [
    "# à vous de jouer !\n",
    "\n",
    "def addition(a, b):\n",
    "    \"\"\"\n",
    "    Permet d'additionner deux nombres A et B.\n",
    "    \"\"\"\n",
    "    return a + b\n"
   ]
  },
  {
   "cell_type": "markdown",
   "metadata": {
    "id": "QkCK4yBztLXU"
   },
   "source": [
    "**Q2** : Utilisez la fonction `help` pour accéder à la chaîne de documentation de cette fonction."
   ]
  },
  {
   "cell_type": "code",
   "execution_count": 5,
   "metadata": {
    "id": "xbFb6lyBtLXU",
    "ExecuteTime": {
     "end_time": "2023-10-11T15:14:30.333751471Z",
     "start_time": "2023-10-11T15:14:30.291312150Z"
    }
   },
   "outputs": [
    {
     "name": "stdout",
     "output_type": "stream",
     "text": [
      "Help on function addition in module __main__:\n",
      "\n",
      "addition(a, b)\n",
      "    Permet d'additionner deux nombres A et B.\n"
     ]
    }
   ],
   "source": [
    "# à vous de jouer !\n",
    "help(addition)"
   ]
  },
  {
   "cell_type": "markdown",
   "metadata": {
    "id": "nx5ge4bAtLXV"
   },
   "source": [
    "## 🐍 Exercice 2\n",
    "\n",
    "**Q1** : Donnez un meilleur nom et une chaîne de documentation à la fonction suivante, le paramètre `t` étant un tableau.\n",
    "\n",
    "```python\n",
    "def mystere(t):\n",
    "    s = 0\n",
    "    for i in range(len(t)):\n",
    "        s = s + t[i]\n",
    "    return s / n\n",
    "```"
   ]
  },
  {
   "cell_type": "code",
   "execution_count": 12,
   "metadata": {
    "id": "il9m1YvEtLXV",
    "ExecuteTime": {
     "end_time": "2023-10-11T15:17:10.291886458Z",
     "start_time": "2023-10-11T15:17:10.221769429Z"
    }
   },
   "outputs": [],
   "source": [
    "# à vous de jouer !\n",
    "\n",
    "def somme_elements_tableaux(t):\n",
    "    \"\"\"\n",
    "    Permet d'additionner les éléments du tableau t\n",
    "    \"\"\"\n",
    "    s = 0\n",
    "    for i in range(len(t)):\n",
    "        s = s + t[i]\n",
    "    return s"
   ]
  },
  {
   "cell_type": "markdown",
   "metadata": {
    "id": "G91FljqJtLXV"
   },
   "source": [
    "**Q2** : Utilisez la fonction `help` pour accéder à la chaîne de documentation de cette fonction."
   ]
  },
  {
   "cell_type": "code",
   "execution_count": 10,
   "metadata": {
    "id": "pjFeagOatLXV",
    "ExecuteTime": {
     "end_time": "2023-10-11T15:16:33.056748944Z",
     "start_time": "2023-10-11T15:16:33.033067493Z"
    }
   },
   "outputs": [
    {
     "name": "stdout",
     "output_type": "stream",
     "text": [
      "Help on function somme_elements_tableaux in module __main__:\n",
      "\n",
      "somme_elements_tableaux(t)\n",
      "    Permet d'additionner les éléments du tableau t\n"
     ]
    }
   ],
   "source": [
    "# à vous de jouer !\n",
    "help(somme_elements_tableaux)\n"
   ]
  },
  {
   "cell_type": "markdown",
   "metadata": {
    "id": "KdSb9o6wtLXV"
   },
   "source": [
    "# 🟥 Programmation défensive\n",
    "\n",
    "## 🐍 Exercice 3\n",
    "\n",
    "On considère la fonction `indice_maxi_tab(T)` suivante. À l'aide de la construction `assert`, proposez un test vérifiant si la précondition sur le tableau `T` est validée (*on ne cherchera pas à écrire la fonction*)."
   ]
  },
  {
   "cell_type": "code",
   "execution_count": 19,
   "metadata": {
    "id": "Klk3T4SJtLXW",
    "ExecuteTime": {
     "end_time": "2023-10-11T15:19:40.174527739Z",
     "start_time": "2023-10-11T15:19:40.062650041Z"
    }
   },
   "outputs": [
    {
     "ename": "AssertionError",
     "evalue": "Le tableau ne doit pas être vide",
     "output_type": "error",
     "traceback": [
      "\u001B[0;31m---------------------------------------------------------------------------\u001B[0m",
      "\u001B[0;31mAssertionError\u001B[0m                            Traceback (most recent call last)",
      "Cell \u001B[0;32mIn[19], line 7\u001B[0m\n\u001B[1;32m      2\u001B[0m \u001B[38;5;250m    \u001B[39m\u001B[38;5;124;03m\"\"\"\u001B[39;00m\n\u001B[1;32m      3\u001B[0m \u001B[38;5;124;03m    Renvoie l'indice de la première occurence de la valeur\u001B[39;00m\n\u001B[1;32m      4\u001B[0m \u001B[38;5;124;03m    maximale du tableau T. T est supposé non vide.\u001B[39;00m\n\u001B[1;32m      5\u001B[0m \u001B[38;5;124;03m    \"\"\"\u001B[39;00m\n\u001B[1;32m      6\u001B[0m     \u001B[38;5;28;01massert\u001B[39;00m T \u001B[38;5;241m!=\u001B[39m [], \u001B[38;5;124m'\u001B[39m\u001B[38;5;124mLe tableau ne doit pas être vide\u001B[39m\u001B[38;5;124m'\u001B[39m\n\u001B[0;32m----> 7\u001B[0m \u001B[43mindice_maxi_tab\u001B[49m\u001B[43m(\u001B[49m\u001B[43m[\u001B[49m\u001B[43m]\u001B[49m\u001B[43m)\u001B[49m\n",
      "Cell \u001B[0;32mIn[19], line 6\u001B[0m, in \u001B[0;36mindice_maxi_tab\u001B[0;34m(T)\u001B[0m\n\u001B[1;32m      1\u001B[0m \u001B[38;5;28;01mdef\u001B[39;00m \u001B[38;5;21mindice_maxi_tab\u001B[39m(T):\n\u001B[1;32m      2\u001B[0m \u001B[38;5;250m    \u001B[39m\u001B[38;5;124;03m\"\"\"\u001B[39;00m\n\u001B[1;32m      3\u001B[0m \u001B[38;5;124;03m    Renvoie l'indice de la première occurence de la valeur\u001B[39;00m\n\u001B[1;32m      4\u001B[0m \u001B[38;5;124;03m    maximale du tableau T. T est supposé non vide.\u001B[39;00m\n\u001B[1;32m      5\u001B[0m \u001B[38;5;124;03m    \"\"\"\u001B[39;00m\n\u001B[0;32m----> 6\u001B[0m     \u001B[38;5;28;01massert\u001B[39;00m T \u001B[38;5;241m!=\u001B[39m [], \u001B[38;5;124m'\u001B[39m\u001B[38;5;124mLe tableau ne doit pas être vide\u001B[39m\u001B[38;5;124m'\u001B[39m\n",
      "\u001B[0;31mAssertionError\u001B[0m: Le tableau ne doit pas être vide"
     ]
    }
   ],
   "source": [
    "def indice_maxi_tab(T):\n",
    "    \"\"\"\n",
    "    Renvoie l'indice de la première occurence de la valeur\n",
    "    maximale du tableau T. T est supposé non vide.\n",
    "    \"\"\"\n",
    "    assert T != [], 'Le tableau ne doit pas être vide'\n",
    "indice_maxi_tab([])\n"
   ]
  },
  {
   "cell_type": "markdown",
   "metadata": {
    "id": "NsHDXOfbtLXW"
   },
   "source": [
    "## 🐍 Exercice 4\n",
    "\n",
    "On considère la fonction `quotient(a, b)` suivante. À l'aide de la construction `assert`, proposez un test vérifiant si les préconditions sont validées.\n"
   ]
  },
  {
   "cell_type": "code",
   "execution_count": 25,
   "metadata": {
    "id": "NG5OBDXDtLXW",
    "ExecuteTime": {
     "end_time": "2023-10-11T15:24:32.179970397Z",
     "start_time": "2023-10-11T15:24:32.160077103Z"
    }
   },
   "outputs": [
    {
     "ename": "AssertionError",
     "evalue": "B doit être non nul",
     "output_type": "error",
     "traceback": [
      "\u001B[0;31m---------------------------------------------------------------------------\u001B[0m",
      "\u001B[0;31mAssertionError\u001B[0m                            Traceback (most recent call last)",
      "Cell \u001B[0;32mIn[25], line 7\u001B[0m\n\u001B[1;32m      5\u001B[0m     \u001B[38;5;66;03m# TEST A ECRIRE ICI\u001B[39;00m\n\u001B[1;32m      6\u001B[0m     \u001B[38;5;28;01massert\u001B[39;00m b \u001B[38;5;241m!=\u001B[39m \u001B[38;5;241m0\u001B[39m, \u001B[38;5;124m'\u001B[39m\u001B[38;5;124mB doit être non nul\u001B[39m\u001B[38;5;124m'\u001B[39m\n\u001B[0;32m----> 7\u001B[0m \u001B[43mquotient\u001B[49m\u001B[43m(\u001B[49m\u001B[38;5;241;43m5\u001B[39;49m\u001B[43m,\u001B[49m\u001B[38;5;241;43m0\u001B[39;49m\u001B[43m)\u001B[49m\n",
      "Cell \u001B[0;32mIn[25], line 6\u001B[0m, in \u001B[0;36mquotient\u001B[0;34m(a, b)\u001B[0m\n\u001B[1;32m      2\u001B[0m \u001B[38;5;250m\u001B[39m\u001B[38;5;124;03m'''\u001B[39;00m\n\u001B[1;32m      3\u001B[0m \u001B[38;5;124;03mRenvoie la valeur du quotient de a par b, b étant non nul.\u001B[39;00m\n\u001B[1;32m      4\u001B[0m \u001B[38;5;124;03m'''\u001B[39;00m\n\u001B[1;32m      5\u001B[0m \u001B[38;5;66;03m# TEST A ECRIRE ICI\u001B[39;00m\n\u001B[0;32m----> 6\u001B[0m \u001B[38;5;28;01massert\u001B[39;00m b \u001B[38;5;241m!=\u001B[39m \u001B[38;5;241m0\u001B[39m, \u001B[38;5;124m'\u001B[39m\u001B[38;5;124mB doit être non nul\u001B[39m\u001B[38;5;124m'\u001B[39m\n",
      "\u001B[0;31mAssertionError\u001B[0m: B doit être non nul"
     ]
    }
   ],
   "source": [
    "def quotient(a, b):\n",
    "    '''\n",
    "    Renvoie la valeur du quotient de a par b, b étant non nul.\n",
    "    '''\n",
    "    # TEST A ECRIRE ICI\n",
    "    assert b != 0, 'B doit être non nul'\n",
    "quotient(5,0)\n"
   ]
  },
  {
   "cell_type": "markdown",
   "metadata": {
    "id": "th-Kejq1tLXX"
   },
   "source": [
    "# 🟥 Tester ses programmes\n",
    "\n",
    "## 🐍 Exercice 5\n",
    "\n",
    "\n",
    "**Q1** : En utilisant `assert`, donnez un jeu de tests de qualité pour la fonction `multiplication` suivante.\n",
    "\n",
    "**Q2** : Vérifiez ensuite que les tests passent avec succès."
   ]
  },
  {
   "cell_type": "code",
   "execution_count": 28,
   "metadata": {
    "id": "PFxJcBNotLXX",
    "ExecuteTime": {
     "end_time": "2023-10-11T15:26:45.078032237Z",
     "start_time": "2023-10-11T15:26:45.041816283Z"
    }
   },
   "outputs": [],
   "source": [
    "def multiplication(a, b):\n",
    "    '''\n",
    "    Renvoie le produit de a par b,\n",
    "    où a et b sont deux nombres quelconques.\n",
    "    '''\n",
    "    return a * b\n",
    "\n",
    "assert multiplication(5,6) == 30\n",
    "assert multiplication(-0,3) == 0\n",
    "assert multiplication(0.598,-9.5) == -5.681\n",
    "assert multiplication(0,0) == 0\n",
    "# jeu de tests à écrire ici"
   ]
  },
  {
   "cell_type": "markdown",
   "metadata": {
    "id": "sXwgk7MBtLXX"
   },
   "source": [
    "## 🐍 Exercice 6\n",
    "\n",
    "\n",
    "**Q1** : En utilisant `assert`, donnez un jeu de tests de qualité pour la fonction `somme` suivante.\n",
    "\n",
    "**Q2** : Vérifiez ensuite que les tests passent avec succès.\n",
    "\n",
    "```python\n",
    "def somme(t):\n",
    "    '''\n",
    "    Renvoie la somme des éléments du tableau t,\n",
    "    t étant un tableau de nombres\n",
    "    '''\n",
    "    s = 0\n",
    "    for i in range(len(t)):\n",
    "        s = s + t[i]\n",
    "    return s\n",
    "```"
   ]
  },
  {
   "cell_type": "markdown",
   "source": [],
   "metadata": {
    "id": "40yxOiF-3B8X"
   }
  },
  {
   "cell_type": "code",
   "execution_count": 79,
   "metadata": {
    "id": "aKd0ZiZ-tLXX",
    "ExecuteTime": {
     "end_time": "2023-10-11T15:31:38.856305088Z",
     "start_time": "2023-10-11T15:31:38.812880811Z"
    }
   },
   "outputs": [],
   "source": [
    "# à vous de jouer !\n",
    "def somme(t):\n",
    "    s=0\n",
    "    for i in range(len(t)):\n",
    "        s+=t[i]\n",
    "    return s\n",
    "\n",
    "assert somme([7,8.5]) == 15.5\n",
    "assert somme([-5,6]) == 1\n",
    "assert somme([]) == 0\n",
    "assert somme([4]) == 4"
   ]
  },
  {
   "cell_type": "markdown",
   "metadata": {
    "id": "9IAWq4P4tLXX"
   },
   "source": [
    "## 🐍 Exercice 7\n",
    "\n",
    "On cherche à écrire une fonction `est_croissant(t)` qui renvoie `True` si le tableau `t` est trié dans l'ordre croissant et `False` sinon.\n",
    "\n",
    "**Q1** : Complétez la fonction `tests_est_croissante` avec un jeu de tests de qualité pour la fonction `est_croissante` (*on ne cherchera pas à écrire le code de la fonction*).\n",
    "\n",
    "> <span style=\"font-size:1.5em\">📣</span> Ici, on écrit tous les tests dans une fonction, qu'il suffira d'appeler par la suite pour lancer les tests"
   ]
  },
  {
   "cell_type": "code",
   "execution_count": 120,
   "metadata": {
    "id": "Zq6KPO6XtLXY",
    "ExecuteTime": {
     "end_time": "2023-10-11T16:00:00.314205163Z",
     "start_time": "2023-10-11T16:00:00.276757159Z"
    }
   },
   "outputs": [
    {
     "ename": "AssertionError",
     "evalue": "",
     "output_type": "error",
     "traceback": [
      "\u001B[0;31m---------------------------------------------------------------------------\u001B[0m",
      "\u001B[0;31mAssertionError\u001B[0m                            Traceback (most recent call last)",
      "Cell \u001B[0;32mIn[120], line 10\u001B[0m\n\u001B[1;32m      4\u001B[0m \u001B[38;5;250m    \u001B[39m\u001B[38;5;124;03m\"\"\"\u001B[39;00m\n\u001B[1;32m      5\u001B[0m \u001B[38;5;124;03m    Fonction lançant des tests pour la fonction est_croissante\u001B[39;00m\n\u001B[1;32m      6\u001B[0m \u001B[38;5;124;03m    \"\"\"\u001B[39;00m\n\u001B[1;32m      9\u001B[0m     \u001B[38;5;66;03m# jeu de tests à écrire ici\u001B[39;00m\n\u001B[0;32m---> 10\u001B[0m \u001B[38;5;28;01massert\u001B[39;00m tests_est_croissante([\u001B[38;5;241m1\u001B[39m,\u001B[38;5;241m2\u001B[39m,\u001B[38;5;241m3\u001B[39m,\u001B[38;5;241m4\u001B[39m,\u001B[38;5;241m5\u001B[39m]) \u001B[38;5;241m==\u001B[39m \u001B[38;5;28;01mTrue\u001B[39;00m\n\u001B[1;32m     11\u001B[0m \u001B[38;5;28;01massert\u001B[39;00m tests_est_croissante([\u001B[38;5;241m1\u001B[39m,\u001B[38;5;241m2\u001B[39m,\u001B[38;5;241m3\u001B[39m,\u001B[38;5;241m5\u001B[39m,\u001B[38;5;241m4\u001B[39m]) \u001B[38;5;241m==\u001B[39m \u001B[38;5;28;01mFalse\u001B[39;00m\n\u001B[1;32m     12\u001B[0m \u001B[38;5;28;01massert\u001B[39;00m tests_est_croissante([\u001B[38;5;241m1\u001B[39m]) \u001B[38;5;241m==\u001B[39m \u001B[38;5;28;01mTrue\u001B[39;00m\n",
      "\u001B[0;31mAssertionError\u001B[0m: "
     ]
    }
   ],
   "source": [
    "# à vous de jouer !\n",
    "\n",
    "def tests_est_croissante(t):\n",
    "    \"\"\"\n",
    "    Fonction lançant des tests pour la fonction est_croissante\n",
    "    \"\"\"\n",
    "    \n",
    "    \n",
    "    # jeu de tests à écrire ici\n",
    "assert tests_est_croissante([1,2,3,4,5]) == True\n",
    "assert tests_est_croissante([1,2,3,5,4]) == False\n",
    "assert tests_est_croissante([1]) == True\n",
    "assert tests_est_croissante([]) == True\n",
    "\n"
   ]
  },
  {
   "cell_type": "markdown",
   "metadata": {
    "id": "pWD0ioIvtLXY"
   },
   "source": [
    "**Q2** : Un elève propose le code suivant pour la fonction `est_croissant(t)` de l'exercice précédent. Faites passer vos tests à cette fonction.\n"
   ]
  },
  {
   "cell_type": "code",
   "execution_count": 121,
   "metadata": {
    "id": "sIj1-GFktLXY",
    "ExecuteTime": {
     "end_time": "2023-10-11T16:00:08.577431677Z",
     "start_time": "2023-10-11T16:00:08.532302270Z"
    }
   },
   "outputs": [
    {
     "name": "stdout",
     "output_type": "stream",
     "text": [
      "2 1\n",
      "3 2\n",
      "4 3\n",
      "5 4\n"
     ]
    },
    {
     "ename": "IndexError",
     "evalue": "list index out of range",
     "output_type": "error",
     "traceback": [
      "\u001B[0;31m---------------------------------------------------------------------------\u001B[0m",
      "\u001B[0;31mIndexError\u001B[0m                                Traceback (most recent call last)",
      "Cell \u001B[0;32mIn[121], line 13\u001B[0m\n\u001B[1;32m      7\u001B[0m         \u001B[38;5;28mprint\u001B[39m(t[i\u001B[38;5;241m+\u001B[39m\u001B[38;5;241m1\u001B[39m],t[i])\n\u001B[1;32m      9\u001B[0m         \u001B[38;5;66;03m#if t[i+1] > t[i]:\u001B[39;00m\n\u001B[1;32m     10\u001B[0m          \u001B[38;5;66;03m#   return False\u001B[39;00m\n\u001B[1;32m     11\u001B[0m     \u001B[38;5;66;03m#return True\u001B[39;00m\n\u001B[0;32m---> 13\u001B[0m \u001B[38;5;28;01massert\u001B[39;00m \u001B[43mest_croissant\u001B[49m\u001B[43m(\u001B[49m\u001B[43m[\u001B[49m\u001B[38;5;241;43m1\u001B[39;49m\u001B[43m,\u001B[49m\u001B[38;5;241;43m2\u001B[39;49m\u001B[43m,\u001B[49m\u001B[38;5;241;43m3\u001B[39;49m\u001B[43m,\u001B[49m\u001B[38;5;241;43m4\u001B[39;49m\u001B[43m,\u001B[49m\u001B[38;5;241;43m5\u001B[39;49m\u001B[43m]\u001B[49m\u001B[43m)\u001B[49m \u001B[38;5;241m==\u001B[39m \u001B[38;5;28;01mTrue\u001B[39;00m\n\u001B[1;32m     14\u001B[0m \u001B[38;5;28;01massert\u001B[39;00m est_croissant([\u001B[38;5;241m1\u001B[39m,\u001B[38;5;241m2\u001B[39m,\u001B[38;5;241m3\u001B[39m,\u001B[38;5;241m5\u001B[39m,\u001B[38;5;241m4\u001B[39m]) \u001B[38;5;241m==\u001B[39m \u001B[38;5;28;01mFalse\u001B[39;00m\n\u001B[1;32m     15\u001B[0m \u001B[38;5;28;01massert\u001B[39;00m est_croissant([\u001B[38;5;241m1\u001B[39m]) \u001B[38;5;241m==\u001B[39m \u001B[38;5;28;01mTrue\u001B[39;00m\n",
      "Cell \u001B[0;32mIn[121], line 7\u001B[0m, in \u001B[0;36mest_croissant\u001B[0;34m(t)\u001B[0m\n\u001B[1;32m      2\u001B[0m \u001B[38;5;250m\u001B[39m\u001B[38;5;124;03m\"\"\"\u001B[39;00m\n\u001B[1;32m      3\u001B[0m \u001B[38;5;124;03mRenvoie True si le tableau t est trié dans l'ordre croissant,\u001B[39;00m\n\u001B[1;32m      4\u001B[0m \u001B[38;5;124;03met False sinon.\u001B[39;00m\n\u001B[1;32m      5\u001B[0m \u001B[38;5;124;03m\"\"\"\u001B[39;00m\n\u001B[1;32m      6\u001B[0m \u001B[38;5;28;01mfor\u001B[39;00m i \u001B[38;5;129;01min\u001B[39;00m \u001B[38;5;28mrange\u001B[39m(\u001B[38;5;28mlen\u001B[39m(t)):\n\u001B[0;32m----> 7\u001B[0m     \u001B[38;5;28mprint\u001B[39m(\u001B[43mt\u001B[49m\u001B[43m[\u001B[49m\u001B[43mi\u001B[49m\u001B[38;5;241;43m+\u001B[39;49m\u001B[38;5;241;43m1\u001B[39;49m\u001B[43m]\u001B[49m,t[i])\n",
      "\u001B[0;31mIndexError\u001B[0m: list index out of range"
     ]
    }
   ],
   "source": [
    "def est_croissant(t):\n",
    "    \"\"\"\n",
    "    Renvoie True si le tableau t est trié dans l'ordre croissant,\n",
    "    et False sinon.\n",
    "    \"\"\"\n",
    "    for i in range(len(t)):\n",
    "        print(t[i+1],t[i])\n",
    "        \n",
    "        #if t[i+1] > t[i]:\n",
    "         #   return False\n",
    "    #return True\n",
    "\n",
    "assert est_croissant([1,2,3,4,5]) == True\n",
    "assert est_croissant([1,2,3,5,4]) == False\n",
    "assert est_croissant([1]) == True\n",
    "assert est_croissant([]) == True"
   ]
  },
  {
   "cell_type": "markdown",
   "metadata": {
    "id": "kmm8ClwPtLXY"
   },
   "source": [
    "**Q3** : Trouvez l'erreur, soit en affichant l'état de certaines variables à des points stratégiques, soit en utilisant l'outil [Python tutor](https://pythontutor.com/python-debugger.html#mode=edit). Quelle est cette erreur ?\n",
    "\n"
   ]
  },
  {
   "cell_type": "raw",
   "metadata": {
    "id": "eIv1-XQdtLXY"
   },
   "source": [
    "Réponse : Les deux problèmes sont que l'itération doit aller jusqu'à len(t)-1 et non len(t), sinon un IndexOutOfRange se déclenche.\n",
    "Le second problème est la condition qui inversée, pour que la liste soit croissante, l'élément suivant doit être supérieur et non inférieur. Il faut donc remplacer  le > par <."
   ]
  },
  {
   "cell_type": "markdown",
   "metadata": {
    "id": "-L62LB19tLXY"
   },
   "source": [
    "**Q4** : Corrigez alors le code de la fonction et vérifiez que tous les tests sont validés."
   ]
  },
  {
   "cell_type": "code",
   "execution_count": 122,
   "metadata": {
    "id": "xEmJJbHBtLXZ",
    "ExecuteTime": {
     "end_time": "2023-10-11T16:00:12.828776554Z",
     "start_time": "2023-10-11T16:00:12.802373188Z"
    }
   },
   "outputs": [],
   "source": [
    "# à vous de jouer !\n",
    "def est_croissant(t):\n",
    "    \"\"\"\n",
    "    Fonction lançant des tests pour la fonction est_croissante\n",
    "    \"\"\"\n",
    "    \n",
    "    for i in range(len(t)-1):\n",
    "        if t[i+1] < t[i]:\n",
    "            return False\n",
    "    return True\n",
    "\n",
    "assert est_croissant([1,2,3,4,5]) == True\n",
    "assert est_croissant([1,2,3,5,4]) == False\n",
    "assert est_croissant([1]) == True\n",
    "assert est_croissant([]) == True\n"
   ]
  },
  {
   "cell_type": "markdown",
   "metadata": {
    "id": "O8mpgLsYtLXZ"
   },
   "source": [
    "## 🐍 Exercice 8\n",
    "\n",
    "On veut écrire une fonction `annee_naissance(prenom, tab)` qui renvoie l'année de naissance de la personne ayant pour prénom `prenom` dans le tableau `tab`, dont les éléments sont des tuples de la forme (prénom, année de naissance, ville de naissance). Si `prenom` n'apparaît pas dans `tab` alors la fonction doit renvoyer `None`.\n",
    "\n",
    "Exemple :\n",
    "\n",
    "```python\n",
    ">>> tab = [('Lucas', 2002, 'Marseille'), ('Élodie', 2003, 'Angers'), ('Marie', 2001, 'Angers'), ('Jade', 2007, 'New York')]\n",
    ">>> annee_naissance('Marie', tab)\n",
    "2001\n",
    "```"
   ]
  },
  {
   "cell_type": "markdown",
   "metadata": {
    "id": "qfK5fzOVtLXZ"
   },
   "source": [
    "**Q1** : Proposez une fonction `test_annee_naissance` qui permettra de tester la fonction `annee_naissance` grâce à un jeu de tests bien choisi."
   ]
  },
  {
   "cell_type": "code",
   "execution_count": 162,
   "metadata": {
    "id": "aLZy5wPstLXZ",
    "ExecuteTime": {
     "end_time": "2023-10-11T16:32:39.539549735Z",
     "start_time": "2023-10-11T16:32:39.485828037Z"
    }
   },
   "outputs": [],
   "source": [
    "# à vous de jouer !\n",
    "\n",
    "def test_annee_naissance():\n",
    "    tab = [('Lucas', 2002, 'Marseille'), ('Élodie', 2003, 'Angers'), ('Marie', 2001, 'Angers'), ('Jade', 2007, 'New York')]\n",
    "    \n",
    "    assert annee_naissance('Lucas',tab) == 2002\n",
    "    assert annee_naissance('Élodie',tab) == 2003\n",
    "    assert annee_naissance('Léandre',tab) == 'None'\n",
    "    assert annee_naissance('Marie',tab) == 2001\n",
    "    assert annee_naissance('Jade',tab) == 2007"
   ]
  },
  {
   "cell_type": "markdown",
   "metadata": {
    "id": "yXwIQzz8tLXa"
   },
   "source": [
    "**Q2** : Écrivez la fonction `annee_naissance(prenom, tab)` et vérifiez qu'elle passe tous les tests."
   ]
  },
  {
   "cell_type": "code",
   "execution_count": 164,
   "metadata": {
    "id": "Vfh9M-uHtLXa",
    "ExecuteTime": {
     "end_time": "2023-10-11T16:33:06.696651556Z",
     "start_time": "2023-10-11T16:33:06.616660602Z"
    }
   },
   "outputs": [],
   "source": [
    "# à vous de jouer !\n",
    "tab = [('Lucas', 2002, 'Marseille'), ('Élodie', 2003, 'Angers'), ('Marie', 2001, 'Angers'), ('Jade', 2007, 'New York')]\n",
    "def annee_naissance(prenom, tableau):\n",
    "    \n",
    "    for i in tableau:\n",
    "        if i[0]==prenom:\n",
    "            return i[1]\n",
    "    return 'None'\n",
    "\n",
    "annee_naissance('Jade',tab)\n",
    "test_annee_naissance()"
   ]
  },
  {
   "cell_type": "markdown",
   "metadata": {
    "id": "fFzA0QTstLXa"
   },
   "source": [
    "## 🐍 Exercice 9\n",
    "\n",
    "On veut écrire une fonction `meilleure_note` qui prend en paramètre un dictionnaire `resultats` dans lequel les clés sont des prénoms d'élèves et leurs valeurs associées sont des notes à un devoir, et qui renvoie la meilleure note à ce devoir.\n",
    "\n",
    "Exemple :\n",
    "\n",
    "```python\n",
    ">>> meilleure_note({'Marie': 15, 'Laurent': 12, 'Julie': 18, 'Antoine': 17})\n",
    "18\n",
    "```\n",
    "\n",
    "**Q1** : Écrivez la chaîne de documentation de cette fonction `meilleure_note` pour y intégrer directement les tests."
   ]
  },
  {
   "cell_type": "code",
   "execution_count": 147,
   "metadata": {
    "id": "qXHTCkxUtLXa",
    "ExecuteTime": {
     "end_time": "2023-10-11T16:21:07.605872885Z",
     "start_time": "2023-10-11T16:21:07.546340034Z"
    }
   },
   "outputs": [
    {
     "ename": "AssertionError",
     "evalue": "",
     "output_type": "error",
     "traceback": [
      "\u001B[0;31m---------------------------------------------------------------------------\u001B[0m",
      "\u001B[0;31mAssertionError\u001B[0m                            Traceback (most recent call last)",
      "Cell \u001B[0;32mIn[147], line 7\u001B[0m\n\u001B[1;32m      2\u001B[0m \u001B[38;5;28;01mdef\u001B[39;00m \u001B[38;5;21mmeilleure_note\u001B[39m(dico):\n\u001B[1;32m      3\u001B[0m \u001B[38;5;250m    \u001B[39m\u001B[38;5;124;03m'''\u001B[39;00m\n\u001B[1;32m      4\u001B[0m \u001B[38;5;124;03m    Retourne la meilleure note dans un dictionnaire ayant des élèves pour clés et leurs notes en valeurs\u001B[39;00m\n\u001B[1;32m      5\u001B[0m \u001B[38;5;124;03m    '''\u001B[39;00m\n\u001B[0;32m----> 7\u001B[0m \u001B[38;5;28;01massert\u001B[39;00m meilleure_note({\u001B[38;5;124m'\u001B[39m\u001B[38;5;124mMarie\u001B[39m\u001B[38;5;124m'\u001B[39m:\u001B[38;5;241m15\u001B[39m, \u001B[38;5;124m'\u001B[39m\u001B[38;5;124mLaurent\u001B[39m\u001B[38;5;124m'\u001B[39m:\u001B[38;5;241m19\u001B[39m, \u001B[38;5;124m'\u001B[39m\u001B[38;5;124mMaxime\u001B[39m\u001B[38;5;124m'\u001B[39m: \u001B[38;5;241m3\u001B[39m, \u001B[38;5;124m'\u001B[39m\u001B[38;5;124mMatt\u001B[39m\u001B[38;5;124m'\u001B[39m: \u001B[38;5;241m20\u001B[39m}) \u001B[38;5;241m==\u001B[39m \u001B[38;5;241m20\u001B[39m\n\u001B[1;32m      8\u001B[0m \u001B[38;5;28;01massert\u001B[39;00m meilleure_note({}) \u001B[38;5;241m==\u001B[39m \u001B[38;5;241m0\u001B[39m\n\u001B[1;32m      9\u001B[0m \u001B[38;5;28;01massert\u001B[39;00m meilleure_note({\u001B[38;5;124m'\u001B[39m\u001B[38;5;124mMarie\u001B[39m\u001B[38;5;124m'\u001B[39m:\u001B[38;5;241m15\u001B[39m, \u001B[38;5;124m'\u001B[39m\u001B[38;5;124mLaurent\u001B[39m\u001B[38;5;124m'\u001B[39m:\u001B[38;5;241m-\u001B[39m\u001B[38;5;241m15\u001B[39m, \u001B[38;5;124m'\u001B[39m\u001B[38;5;124mMaxime\u001B[39m\u001B[38;5;124m'\u001B[39m: \u001B[38;5;241m15\u001B[39m, \u001B[38;5;124m'\u001B[39m\u001B[38;5;124mMatt\u001B[39m\u001B[38;5;124m'\u001B[39m: \u001B[38;5;241m15\u001B[39m}) \u001B[38;5;241m==\u001B[39m \u001B[38;5;241m15\u001B[39m\n",
      "\u001B[0;31mAssertionError\u001B[0m: "
     ]
    }
   ],
   "source": [
    "# à vous de jouer !\n",
    "def meilleure_note(dico):\n",
    "    '''\n",
    "    Retourne la meilleure note dans un dictionnaire ayant des élèves pour clés et leurs notes en valeurs\n",
    "    '''\n",
    "    \n",
    "assert meilleure_note({'Marie':15, 'Laurent':19, 'Maxime': 3, 'Matt': 20}) == 20\n",
    "assert meilleure_note({}) == 0\n",
    "assert meilleure_note({'Marie':15, 'Laurent':-15, 'Maxime': 15, 'Matt': 15}) == 15\n",
    "help(meilleure_note)"
   ]
  },
  {
   "cell_type": "markdown",
   "metadata": {
    "id": "OcebVU6dtLXa"
   },
   "source": [
    "**Q2** : Écrivez le code de cette fonction.\n",
    "\n",
    "**Q3** : Utilisez le module `doctest` pour vérifier les tests intégrés à la chaîne de documentation. Modifiez la fonction si les tests échouent."
   ]
  },
  {
   "cell_type": "code",
   "execution_count": 150,
   "metadata": {
    "id": "1toYlgoAtLXb",
    "ExecuteTime": {
     "end_time": "2023-10-11T16:21:44.101559859Z",
     "start_time": "2023-10-11T16:21:44.021281103Z"
    }
   },
   "outputs": [
    {
     "name": "stdout",
     "output_type": "stream",
     "text": [
      "20\n"
     ]
    }
   ],
   "source": [
    "# à vous de jouer !\n",
    "\n",
    "def meilleure_notes(dico):\n",
    "    '''\n",
    "    Retourne la meilleure note dans un dictionnaire ayant des élèves pour clés et leurs notes en valeurs\n",
    "    '''\n",
    "    s = 0\n",
    "    for note in dico.values():\n",
    "        if note > s:\n",
    "            s = note\n",
    "    return s\n",
    "\n",
    "print(meilleure_notes({'Marie':15, 'Laurent':19, 'Maxime': 3, 'Matt': 20}))\n",
    "\n",
    "assert meilleure_notes({'Marie':15, 'Laurent':19, 'Maxime': 3, 'Matt': 20}) == 20\n",
    "assert meilleure_notes({}) == 0\n",
    "assert meilleure_notes({'Marie': 15, 'Laurent':-15, 'Maxime': 15, 'Matt': 15}) == 15"
   ]
  },
  {
   "cell_type": "markdown",
   "metadata": {
    "id": "5O7H9-ektLXb"
   },
   "source": [
    "---\n",
    "\n",
    "**Références :**\n",
    "- Documents ressources du DIU EIL Nantes, C. DECLERCQ.\n",
    "- Numérique et Sciences Informatiques, 1re, T. BALABONSKI, S. CONCHON, J.-C. FILLIATRE, K. NGUYEN, éditions ELLIPSES : [Site du livre](https://www.nsi-premiere.fr/)\n",
    "-Germain BECKER & Sébastien POINT, Lycée Mounier, ANGERS"
   ]
  },
  {
   "cell_type": "markdown",
   "source": [
    "| <span style='color:Blue'> L.H & E.S |  | |   | |     |<span style='color:Blue'> NSI Terminale | |   | ||<span style='color:Blue'> Lycée Ozanam (Lille)|\n",
    "| --- | --- |--- |--- |--- |--- | --- | --- |--- |--- | --- | --- |"
   ],
   "metadata": {
    "id": "3AMQDjOf4CpJ"
   }
  }
 ],
 "metadata": {
  "kernelspec": {
   "display_name": "Python 3",
   "language": "python",
   "name": "python3"
  },
  "language_info": {
   "codemirror_mode": {
    "name": "ipython",
    "version": 3
   },
   "file_extension": ".py",
   "mimetype": "text/x-python",
   "name": "python",
   "nbconvert_exporter": "python",
   "pygments_lexer": "ipython3",
   "version": "3.7.10"
  },
  "colab": {
   "provenance": []
  }
 },
 "nbformat": 4,
 "nbformat_minor": 0
}
